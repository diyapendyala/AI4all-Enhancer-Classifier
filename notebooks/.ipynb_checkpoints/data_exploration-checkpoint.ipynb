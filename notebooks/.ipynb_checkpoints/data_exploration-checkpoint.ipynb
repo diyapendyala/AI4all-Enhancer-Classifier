{
 "cells": [
  {
   "cell_type": "code",
   "execution_count": 1,
   "id": "82ad1ec8",
   "metadata": {},
   "outputs": [],
   "source": [
    "import numpy as np\n",
    "import pandas as pd\n",
    "from sklearn import svm, linear_model\n",
    "from sklearn.model_selection import train_test_split\n",
    "import sklearn.ensemble, sklearn.metrics\n",
    "from torch.nn.functional import linear\n",
    "import ipynb.fs.full.utility_functions as utils"
   ]
  },
  {
   "cell_type": "code",
   "execution_count": 2,
   "id": "b5eb6b1b",
   "metadata": {},
   "outputs": [
    {
     "name": "stdout",
     "output_type": "stream",
     "text": [
      "                          name  \\\n",
      "0       chrX_48897056_48897256   \n",
      "1        chr12_6444339_6444539   \n",
      "2        chr12_6444939_6445139   \n",
      "3        chr12_6445139_6445339   \n",
      "4        chr12_6445339_6445539   \n",
      "...                        ...   \n",
      "2963    chr8_94179624_94179824   \n",
      "2964  chr8_112761024_112761224   \n",
      "2965  chr8_114757624_114757824   \n",
      "2966  chr8_134904418_134904618   \n",
      "2967  chr8_137170818_137171018   \n",
      "\n",
      "                                               sequence  enhancer_status  \n",
      "0     CACAATGTAGAAGCAGAGACACAGGAACCAGGCTTGGTGATGGCTC...              1.0  \n",
      "1     GCCCTCACATTCCCTGGCCCATCCCCTCCACCTCAAAATTTACAAA...              1.0  \n",
      "2     GAGCAGGAGGCCAGTCACCCTGAGTCAGCCACGGGGAGACGCTGCA...              1.0  \n",
      "3     CCTCTGCTGAGAACAGGACTGGGGCTTCCAGGGCAACAGGAAGGGT...              1.0  \n",
      "4     ACAGCCTTAAAGGGAGCTTTTCAGGGACCTCTGGCCAGTGGGGGAT...              1.0  \n",
      "...                                                 ...              ...  \n",
      "2963  TGAGGACCTACTTTGTGCTAGGAACTTTATGTAAATGTGTTCTTTT...              0.0  \n",
      "2964  ACTATACTTTACTTAGCTCCTTTTGGACTGCTGTTGGCTTCAAGTA...              0.0  \n",
      "2965  CATGTATGCATTTTATTTAAAGATAAATCTTATTTAAAAATAAACT...              0.0  \n",
      "2966  AACTCTCATATTAAATAATCGTTATGCTGAATACAGAGCTCTAGGC...              0.0  \n",
      "2967  AAGGACAAGCTTCCATCCAGATAATCCAAAGGGCGAGGTCAATAAA...              0.0  \n",
      "\n",
      "[2968 rows x 3 columns]\n"
     ]
    }
   ],
   "source": [
    "# read in needed dataset\n",
    "labeled_sequences = pd.read_csv(\"../data/enhancer_sequences_cleaned.tsv\", sep=\"\\t\")\n",
    "print(labeled_sequences)"
   ]
  },
  {
   "cell_type": "code",
   "execution_count": 3,
   "id": "c7865a6d",
   "metadata": {
    "scrolled": true
   },
   "outputs": [
    {
     "name": "stdout",
     "output_type": "stream",
     "text": [
      "1\n",
      "None\n"
     ]
    }
   ],
   "source": []
  },
  {
   "cell_type": "code",
   "execution_count": null,
   "id": "6e65546d",
   "metadata": {},
   "outputs": [],
   "source": []
  }
 ],
 "metadata": {
  "kernelspec": {
   "display_name": "Python (enhancer_classifier_project)",
   "language": "python",
   "name": "enhancer_classifier_project"
  },
  "language_info": {
   "codemirror_mode": {
    "name": "ipython",
    "version": 3
   },
   "file_extension": ".py",
   "mimetype": "text/x-python",
   "name": "python",
   "nbconvert_exporter": "python",
   "pygments_lexer": "ipython3",
   "version": "3.7.10"
  }
 },
 "nbformat": 4,
 "nbformat_minor": 5
}
