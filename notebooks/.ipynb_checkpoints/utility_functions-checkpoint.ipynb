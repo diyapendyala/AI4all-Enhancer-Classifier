{
 "cells": [
  {
   "cell_type": "code",
   "execution_count": 1,
   "id": "a5e8d25b",
   "metadata": {},
   "outputs": [],
   "source": [
    "import numpy as np\n",
    "import pandas as pd\n",
    "from matplotlib import pyplot as plt\n",
    "import sklearn.metrics\n",
    "from sklearn.utils import validation\n",
    "\n",
    "import torch\n",
    "import torch.nn as nn\n",
    "import torch.nn.functional as F\n",
    "import torch.optim as optim\n",
    "\n",
    "import torchvision\n",
    "from torchvision import datasets, transforms"
   ]
  },
  {
   "cell_type": "code",
   "execution_count": null,
   "id": "dfb0d15b",
   "metadata": {},
   "outputs": [],
   "source": [
    "def dna_onehot(seq):\n",
    "    \"\"\"\n",
    "    This function will take in a DNA sequence in string format and return the corresponding one-hot \n",
    "    encoded DNA sequence (a 1d numpy array consisting of 1's and 0's).\n",
    "    \n",
    "    For consistency, use the following scheme:\n",
    "    A is to be encoded as: (1,0,0,0)\n",
    "    T is to be encoded as: (0,1,0,0)\n",
    "    C is to be encoded as: (0,0,1,0)\n",
    "    G is to be encoded as: (0,0,0,1)\n",
    "    \"\"\"\n",
    "    # delete pass and write your code here\n",
    "    oh_sequence = \"\"\n",
    "    return oh_sequence"
   ]
  },
  {
   "cell_type": "code",
   "execution_count": 5,
   "id": "af8c3377",
   "metadata": {},
   "outputs": [],
   "source": [
    "def calculate_gc_content(seq):\n",
    "    \"\"\"\n",
    "    This function will calculate the GC content for a given DNA sequence. GC content is the fraction of bases in a given \n",
    "    sequence that are either \"G\" or \"C\". For example, the GC content of the sequence \"ACGTT\" is .4, and the GC content \n",
    "    of the sequence \"GCACC\" is .8.\n",
    "    This can also be formulated as: \n",
    "    \"GC content\" = (#G + #C)/(#G + #C + #A + #T)\n",
    "    \"\"\"\n",
    "    gc_content = None\n",
    "    return gc_content\n",
    "    "
   ]
  },
  {
   "cell_type": "code",
   "execution_count": null,
   "id": "351c3124",
   "metadata": {},
   "outputs": [],
   "source": []
  }
 ],
 "metadata": {
  "kernelspec": {
   "display_name": "Python (enhancer_classifier_project)",
   "language": "python",
   "name": "enhancer_classifier_project"
  },
  "language_info": {
   "codemirror_mode": {
    "name": "ipython",
    "version": 3
   },
   "file_extension": ".py",
   "mimetype": "text/x-python",
   "name": "python",
   "nbconvert_exporter": "python",
   "pygments_lexer": "ipython3",
   "version": "3.7.10"
  }
 },
 "nbformat": 4,
 "nbformat_minor": 5
}
